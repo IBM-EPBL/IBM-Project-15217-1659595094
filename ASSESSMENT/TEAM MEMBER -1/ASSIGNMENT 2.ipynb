{
 "cells": [
  {
   "cell_type": "code",
   "execution_count": 1,
   "id": "711ffcc3",
   "metadata": {},
   "outputs": [],
   "source": [
    "import time\n",
    "i=0\n",
    "\n",
    "while (i<=10):\n",
    "\n",
    "    i=i+1\n",
    "\n",
    "    time.sleep(1)   "
   ]
  },
  {
   "cell_type": "code",
   "execution_count": 3,
   "id": "e071e6ed",
   "metadata": {},
   "outputs": [
    {
     "name": "stdout",
     "output_type": "stream",
     "text": [
      "8 temperature is low\n",
      "55 humidity is normal\n"
     ]
    }
   ],
   "source": [
    "import random\n",
    "\n",
    "temperature=random.randint(0,30)\n",
    "humidity=random.randint(1,100)\n",
    "if temperature<=15:\n",
    "    print(temperature, \"temperature is low\")\n",
    "elif temperature<=25:\n",
    "    print(temperature, \"temperature is normal\")\n",
    "else :\n",
    "    print(temperature, \"temperature is high\")\n",
    "if humidity<=30:\n",
    "    print(humidity, \"humidity is low \")\n",
    "elif humidity<=60:\n",
    "    print(humidity, \"humidity is normal\")\n",
    "else :\n",
    "    print(humidity, \"humidity is high\")"
   ]
  },
  {
   "cell_type": "code",
   "execution_count": null,
   "id": "7ea061e8",
   "metadata": {},
   "outputs": [],
   "source": []
  }
 ],
 "metadata": {
  "kernelspec": {
   "display_name": "Python 3 (ipykernel)",
   "language": "python",
   "name": "python3"
  },
  "language_info": {
   "codemirror_mode": {
    "name": "ipython",
    "version": 3
   },
   "file_extension": ".py",
   "mimetype": "text/x-python",
   "name": "python",
   "nbconvert_exporter": "python",
   "pygments_lexer": "ipython3",
   "version": "3.9.7"
  }
 },
 "nbformat": 4,
 "nbformat_minor": 5
}
